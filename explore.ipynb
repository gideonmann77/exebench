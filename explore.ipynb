{
 "cells": [
  {
   "cell_type": "code",
   "execution_count": 159,
   "id": "a1eff3aa-8fc1-4f84-be03-baf798676c8d",
   "metadata": {},
   "outputs": [
    {
     "name": "stdout",
     "output_type": "stream",
     "text": [
      "\u001b[33mWARNING: The directory '/home/jovyan/.cache/pip' or its parent directory is not owned or is not writable by the current user. The cache has been disabled. Check the permissions and owner of that directory. If executing pip with sudo, you should use sudo's -H flag.\u001b[0m\u001b[33m\n",
      "\u001b[0mRequirement already satisfied: zstandard in /opt/conda/lib/python3.10/site-packages (0.19.0)\n"
     ]
    }
   ],
   "source": [
    "!pip install zstandard"
   ]
  },
  {
   "cell_type": "code",
   "execution_count": 160,
   "id": "ce5bf7b7-a524-4754-9411-8c78e29e71cd",
   "metadata": {},
   "outputs": [],
   "source": [
    "import zstandard as zstd\n",
    "import json"
   ]
  },
  {
   "cell_type": "code",
   "execution_count": 161,
   "id": "5aea4084-2c68-4bdc-aaa6-1903571cbdf6",
   "metadata": {},
   "outputs": [],
   "source": [
    "from exebench import Wrapper, diff_io, exebench_dict_to_dict"
   ]
  },
  {
   "cell_type": "code",
   "execution_count": 172,
   "id": "cd91a1c2-2693-4896-8888-e17d11bdbade",
   "metadata": {},
   "outputs": [
    {
     "name": "stdout",
     "output_type": "stream",
     "text": [
      "int drv_attribute_open_recover(int p,char *suri,char *sname) {return p;}\n"
     ]
    }
   ],
   "source": [
    "path=\"/workspace/src/exebench.files/train_real_simple_io/data_0_time1670454827_default.jsonl.zst\"\n",
    "#path=\"/workspace/src/exebench.files/train_synth_simple_io/data_0_time1670575989_default.jsonl.zst\"\n",
    "with zstd.open(open(path, \"rb\"), \"rt\", encoding=\"utf-8\") as f:\n",
    "    for i, r in enumerate(f):\n",
    "        row = json.loads(r)\n",
    "        func_def = row['text']['func_def']\n",
    "        if len(func_def) > 64: \n",
    "            print(func_def)\n",
    "            break"
   ]
  },
  {
   "cell_type": "code",
   "execution_count": 173,
   "id": "9bcb80a0-2b3a-4c3c-af53-8b536b949bd9",
   "metadata": {},
   "outputs": [
    {
     "name": "stdout",
     "output_type": "stream",
     "text": [
      "int drv_attribute_open_recover(int p,char *suri,char *sname)\n",
      "int drv_attribute_open_recover(int p,char *suri,char *sname) {return p;}\n"
     ]
    }
   ],
   "source": [
    "row = row['text']\n",
    "print(row['func_head_types'])\n",
    "print(row['func_def'])  # print function definition"
   ]
  },
  {
   "cell_type": "code",
   "execution_count": 174,
   "id": "e723c5f2-cd68-432f-b027-276312299ed9",
   "metadata": {},
   "outputs": [
    {
     "data": {
      "text/plain": [
       "dict_keys(['path', 'func_def', 'func_head', 'fname', 'signature', 'doc', 'angha_error', 'real_error', 'asm', 'angha_deps', 'real_deps', 'angha_io_pairs', 'real_io_pairs', 'angha_io_error', 'real_io_error', 'angha_exe_wrapper', 'real_exe_wrapper', 'angha_io_pairs_are_trivial', 'real_io_pairs_are_trivial', 'angha_iospec', 'real_iospec', 'ref', 'func_head_types'])"
      ]
     },
     "execution_count": 174,
     "metadata": {},
     "output_type": "execute_result"
    }
   ],
   "source": [
    "row.keys()"
   ]
  },
  {
   "cell_type": "code",
   "execution_count": 175,
   "id": "f9b75227-c0de-4915-aa04-644604268ccb",
   "metadata": {},
   "outputs": [
    {
     "name": "stdout",
     "output_type": "stream",
     "text": [
      "{'path': 'dtolpin/RNV/drv.c', 'func_def': 'int drv_attribute_open_recover(int p,char *suri,char *sname) {return p;}', 'func_head': 'int drv_attribute_open_recover(intp, char *suri, char *sname)', 'fname': 'drv_attribute_open_recover', 'signature': ['int', 'int', 'char *', 'char *'], 'doc': None, 'angha_error': '', 'real_error': None, 'asm': {'real_gcc_x86_O0': {'pre_asm': '\\t.file\\t\"\"\\n\\t.text\\n\\t.globl\\tdrv_attribute_open_recover\\n\\t.type\\tdrv_attribute_open_recover, @function\\n', 'func_asm': '.globl drv_attribute_open_recover\\n.type drv_attribute_open_recover, @function\\ndrv_attribute_open_recover:\\n.LFB0:\\n\\t.cfi_startproc\\n\\tendbr64\\n\\tpushq\\t%rbp\\n\\t.cfi_def_cfa_offset 16\\n\\t.cfi_offset 6, -16\\n\\tmovq\\t%rsp, %rbp\\n\\t.cfi_def_cfa_register 6\\n\\tmovl\\t%edi, -4(%rbp)\\n\\tmovq\\t%rsi, -16(%rbp)\\n\\tmovq\\t%rdx, -24(%rbp)\\n\\tmovl\\t-4(%rbp), %eax\\n\\tpopq\\t%rbp\\n\\t.cfi_def_cfa 7, 8\\n\\tret\\n\\t.cfi_endproc\\n\\n', 'post_asm': '.LFE0:\\n\\t.size\\tdrv_attribute_open_recover, .-drv_attribute_open_recover\\n\\t.ident\\t\"GCC: (Ubuntu 9.4.0-1ubuntu1~20.04.1) 9.4.0\"\\n\\t.section\\t.note.GNU-stack,\"\",@progbits\\n\\t.section\\t.note.gnu.property,\"a\"\\n\\t.align 8\\n\\t.long\\t 1f - 0f\\n\\t.long\\t 4f - 1f\\n\\t.long\\t 5\\n0:\\n\\t.string\\t \"GNU\"\\n1:\\n\\t.align 8\\n\\t.long\\t 0xc0000002\\n\\t.long\\t 3f - 2f\\n2:\\n\\t.long\\t 0x3\\n3:\\n\\t.align 8\\n4:\\n', 'target': {'impl': 'gcc', 'bits': 64, 'lang': 'gas', 'o': '0'}}, 'real_gcc_x86_Os': {'pre_asm': '\\t.file\\t\"\"\\n\\t.text\\n\\t.globl\\tdrv_attribute_open_recover\\n\\t.type\\tdrv_attribute_open_recover, @function\\n', 'func_asm': '.globl drv_attribute_open_recover\\n.type drv_attribute_open_recover, @function\\ndrv_attribute_open_recover:\\n.LFB0:\\n\\t.cfi_startproc\\n\\tendbr64\\n\\tmovl\\t%edi, %eax\\n\\tret\\n\\t.cfi_endproc\\n\\n', 'post_asm': '.LFE0:\\n\\t.size\\tdrv_attribute_open_recover, .-drv_attribute_open_recover\\n\\t.ident\\t\"GCC: (Ubuntu 9.4.0-1ubuntu1~20.04.1) 9.4.0\"\\n\\t.section\\t.note.GNU-stack,\"\",@progbits\\n\\t.section\\t.note.gnu.property,\"a\"\\n\\t.align 8\\n\\t.long\\t 1f - 0f\\n\\t.long\\t 4f - 1f\\n\\t.long\\t 5\\n0:\\n\\t.string\\t \"GNU\"\\n1:\\n\\t.align 8\\n\\t.long\\t 0xc0000002\\n\\t.long\\t 3f - 2f\\n2:\\n\\t.long\\t 0x3\\n3:\\n\\t.align 8\\n4:\\n', 'target': {'impl': 'gcc', 'bits': 64, 'lang': 'gas', 'o': 's'}}, 'real_gcc_arm_O0': {'pre_asm': '\\t.arch armv8-a\\n\\t.file\\t\"\"\\n\\t.text\\n\\t.align\\t2\\n\\t.global\\tdrv_attribute_open_recover\\n\\t.type\\tdrv_attribute_open_recover, %function\\n', 'func_asm': '.global drv_attribute_open_recover\\n.type drv_attribute_open_recover, %function\\ndrv_attribute_open_recover:\\n.LFB0:\\n\\t.cfi_startproc\\n\\tsub\\tsp, sp, #32\\n\\t.cfi_def_cfa_offset 32\\n\\tstr\\tw0, [sp, 28]\\n\\tstr\\tx1, [sp, 16]\\n\\tstr\\tx2, [sp, 8]\\n\\tldr\\tw0, [sp, 28]\\n\\tadd\\tsp, sp, 32\\n\\t.cfi_def_cfa_offset 0\\n\\tret\\n\\t.cfi_endproc\\n\\n', 'post_asm': '.LFE0:\\n\\t.size\\tdrv_attribute_open_recover, .-drv_attribute_open_recover\\n\\t.ident\\t\"GCC: (Ubuntu 9.4.0-1ubuntu1~20.04.1) 9.4.0\"\\n\\t.section\\t.note.GNU-stack,\"\",@progbits\\n', 'target': {'impl': 'gcc', 'bits': 64, 'lang': 'gas', 'o': '0'}}}, 'angha_deps': None, 'real_deps': '\\n# 1 ', 'angha_io_pairs': None, 'real_io_pairs': [{'input': {'p': 106, 'suri': 'mqxkphnvfe', 'sname': 'dy'}, 'output': {'returnv': 106, 'sname': 'dy', 'suri': 'mqxkphnvfe'}, 'dummy_funcs': None, 'dummy_funcs_seed': None}, {'input': {'p': 43, 'suri': 'bjeetftxiphmrxlvdxbdmdyqdksgfhr', 'sname': 'mz'}, 'output': {'returnv': 43, 'sname': 'mz', 'suri': 'bjeetftxiphmrxlvdxbdmdyqdksgfhr'}, 'dummy_funcs': None, 'dummy_funcs_seed': None}, {'input': {'p': 10, 'suri': 'mppezjecoqzqbuqopfeddkjj', 'sname': 'ibyyueobinbsn'}, 'output': {'returnv': 10, 'sname': 'ibyyueobinbsn', 'suri': 'mppezjecoqzqbuqopfeddkjj'}, 'dummy_funcs': None, 'dummy_funcs_seed': None}, {'input': {'p': 26, 'suri': 'qwxpvbxeyozqvrnwdjw', 'sname': 'teizlpmttajagxv'}, 'output': {'returnv': 26, 'sname': 'teizlpmttajagxv', 'suri': 'qwxpvbxeyozqvrnwdjw'}, 'dummy_funcs': None, 'dummy_funcs_seed': None}, {'input': {'p': 115, 'suri': 'ihhpshuwtvggjyfqrzwokwrqwejs', 'sname': 'pjqeiifb'}, 'output': {'returnv': 115, 'sname': 'pjqeiifb', 'suri': 'ihhpshuwtvggjyfqrzwokwrqwejs'}, 'dummy_funcs': None, 'dummy_funcs_seed': None}, {'input': {'p': 82, 'suri': 's', 'sname': 'zkldnbwpytyxhc'}, 'output': {'returnv': 82, 'sname': 'zkldnbwpytyxhc', 'suri': 's'}, 'dummy_funcs': None, 'dummy_funcs_seed': None}, {'input': {'p': 98, 'suri': 'pilmosgasibwuhltduzcgfj', 'sname': 'ftmwwj'}, 'output': {'returnv': 98, 'sname': 'ftmwwj', 'suri': 'pilmosgasibwuhltduzcgfj'}, 'dummy_funcs': None, 'dummy_funcs_seed': None}, {'input': {'p': 54, 'suri': 'tgcw', 'sname': 'lerrdwprxamjhycyhgluabaiqr'}, 'output': {'returnv': 54, 'sname': 'lerrdwprxamjhycyhgluabaiqr', 'suri': 'tgcw'}, 'dummy_funcs': None, 'dummy_funcs_seed': None}, {'input': {'p': 91, 'suri': 'bjdrzrwnw', 'sname': 'jellnzckhe'}, 'output': {'returnv': 91, 'sname': 'jellnzckhe', 'suri': 'bjdrzrwnw'}, 'dummy_funcs': None, 'dummy_funcs_seed': None}, {'input': {'p': 27, 'suri': 'zoxtmzklbdxezfyqrj', 'sname': 'bxaxlzwhpgisaxxsktmtm'}, 'output': {'returnv': 27, 'sname': 'bxaxlzwhpgisaxxsktmtm', 'suri': 'zoxtmzklbdxezfyqrj'}, 'dummy_funcs': None, 'dummy_funcs_seed': None}], 'angha_io_error': None, 'real_io_error': None, 'angha_exe_wrapper': None, 'real_exe_wrapper': 'extern \"C\" {\\n#include \"/tmp/pytmpfile_2d0c40262005_42oivt8yns.c\"\\n}\\n\\n#include <vector>\\n#include <nlohmann/json.hpp>\\n#include <fstream>\\n#include <iomanip>\\n#include <clib/synthesizer.h>\\n#include <time.h>\\n#include <math.h>\\n#include <iostream>\\nchar* output_file;\\nchar* pre_accel_dump_file;  // optional dump file.\\nusing json = nlohmann::json;\\nconst char* __asan_default_options() {\\n  return \"detect_leaks=0\";\\n}\\n\\nclock_t AcceleratorStart;\\nclock_t AcceleratorTotalNanos = 0;\\nvoid StartAcceleratorTimer() {\\n  AcceleratorStart = clock();\\n}\\n\\nvoid StopAcceleratorTimer() {\\n  AcceleratorTotalNanos += (clock()) - AcceleratorStart;\\n}\\n\\nvoid write_output(int p, char* suri, char* sname, int returnv) {\\n  json output_json;\\n\\n  output_json[\"suri\"] = suri;\\n\\n  output_json[\"sname\"] = sname;\\n\\n  output_json[\"returnv\"] = returnv;\\n  std::ofstream out_str(output_file);\\n  out_str << std::setw(4) << output_json << std::endl;\\n}\\nint main(int argc, char** argv) {\\n  char* inpname = argv[1];\\n  output_file = argv[2];\\n\\n  std::ifstream ifs(inpname);\\n  json input_json = json::parse(ifs);\\n  int p = input_json[\"p\"];\\n  char* suri = strdup(input_json[\"suri\"].get<std::string>().c_str());\\n  char* sname = strdup(input_json[\"sname\"].get<std::string>().c_str());\\n  clock_t begin = clock();\\n  int returnv = drv_attribute_open_recover(p, suri, sname);\\n  clock_t end = clock();\\n  std::cout << \"Time: \" << (double)(end - begin) / CLOCKS_PER_SEC << std::endl;\\n  std::cout << \"AccTime: \" << (double)AcceleratorTotalNanos / CLOCKS_PER_SEC << std::endl;\\n  write_output(p, suri, sname, returnv);\\n}', 'angha_io_pairs_are_trivial': True, 'real_io_pairs_are_trivial': True, 'angha_iospec': None, 'real_iospec': {'livein': ['p', 'suri', 'sname'], 'liveout': ['suri', 'sname'], 'returnvarname': ['returnv'], 'execcmd': '', 'funname': 'drv_attribute_open_recover', 'funargs': ['p', 'suri', 'sname'], 'typemap': {'p': 'int32', 'suri': 'string', 'sname': 'string', 'returnv': 'int32'}, 'required_includes': ['/tmp/pytmpfile_2d0c40262005_42oivt8yns.c'], 'classmap': {}, 'range': {}, 'needs_cast': {}, 'globals': []}, 'ref': 'master', 'func_head_types': 'int drv_attribute_open_recover(int p,char *suri,char *sname)'}\n"
     ]
    }
   ],
   "source": [
    "print(row)"
   ]
  },
  {
   "cell_type": "code",
   "execution_count": 176,
   "id": "ecf3a356-fa54-468c-b82a-b0bfa50f6d88",
   "metadata": {},
   "outputs": [
    {
     "name": "stdout",
     "output_type": "stream",
     "text": [
      "{'pre_asm': '\\t.file\\t\"\"\\n\\t.text\\n\\t.globl\\tdrv_attribute_open_recover\\n\\t.type\\tdrv_attribute_open_recover, @function\\n', 'func_asm': '.globl drv_attribute_open_recover\\n.type drv_attribute_open_recover, @function\\ndrv_attribute_open_recover:\\n.LFB0:\\n\\t.cfi_startproc\\n\\tendbr64\\n\\tpushq\\t%rbp\\n\\t.cfi_def_cfa_offset 16\\n\\t.cfi_offset 6, -16\\n\\tmovq\\t%rsp, %rbp\\n\\t.cfi_def_cfa_register 6\\n\\tmovl\\t%edi, -4(%rbp)\\n\\tmovq\\t%rsi, -16(%rbp)\\n\\tmovq\\t%rdx, -24(%rbp)\\n\\tmovl\\t-4(%rbp), %eax\\n\\tpopq\\t%rbp\\n\\t.cfi_def_cfa 7, 8\\n\\tret\\n\\t.cfi_endproc\\n\\n', 'post_asm': '.LFE0:\\n\\t.size\\tdrv_attribute_open_recover, .-drv_attribute_open_recover\\n\\t.ident\\t\"GCC: (Ubuntu 9.4.0-1ubuntu1~20.04.1) 9.4.0\"\\n\\t.section\\t.note.GNU-stack,\"\",@progbits\\n\\t.section\\t.note.gnu.property,\"a\"\\n\\t.align 8\\n\\t.long\\t 1f - 0f\\n\\t.long\\t 4f - 1f\\n\\t.long\\t 5\\n0:\\n\\t.string\\t \"GNU\"\\n1:\\n\\t.align 8\\n\\t.long\\t 0xc0000002\\n\\t.long\\t 3f - 2f\\n2:\\n\\t.long\\t 0x3\\n3:\\n\\t.align 8\\n4:\\n', 'target': {'impl': 'gcc', 'bits': 64, 'lang': 'gas', 'o': '0'}}\n"
     ]
    }
   ],
   "source": [
    "# for synthethic portion\n",
    "# print(row['asm']['angha_gcc_x86_O0'])  # print assembly with the first target, angha_gcc_x86_O0\n",
    "\n",
    "# for real portion\n",
    "print(row['asm']['real_gcc_x86_O0'])"
   ]
  },
  {
   "cell_type": "code",
   "execution_count": 55,
   "id": "8c038d28-e51f-44f0-94ec-e03ce5f9641b",
   "metadata": {},
   "outputs": [],
   "source": [
    "# print first I/O example (synthetic)\n",
    "# row['angha_io_pairs'][0]['input']\n",
    "# row['angha_io_pairs'][0]['output']\n",
    "# row['angha_io_pairs'][0]['dummy_funcs']"
   ]
  },
  {
   "cell_type": "code",
   "execution_count": 177,
   "id": "0856abae-15bb-4c53-9649-620010b910d2",
   "metadata": {},
   "outputs": [
    {
     "name": "stdout",
     "output_type": "stream",
     "text": [
      "{'p': 106, 'suri': 'mqxkphnvfe', 'sname': 'dy'}\n",
      "{'returnv': 106, 'sname': 'dy', 'suri': 'mqxkphnvfe'}\n",
      "None\n"
     ]
    }
   ],
   "source": [
    "# print first I/O example (real)\n",
    "print(row['real_io_pairs'][0]['input'])\n",
    "print(row['real_io_pairs'][0]['output'])\n",
    "print(row['real_io_pairs'][0]['dummy_funcs'])"
   ]
  },
  {
   "cell_type": "code",
   "execution_count": 178,
   "id": "963ec621-99bb-41b3-adc9-195579e11803",
   "metadata": {},
   "outputs": [
    {
     "data": {
      "text/plain": [
       "'int drv_attribute_open_recover(int p,char *suri,char *sname)'"
      ]
     },
     "execution_count": 178,
     "metadata": {},
     "output_type": "execute_result"
    }
   ],
   "source": [
    "row['func_head_types']"
   ]
  },
  {
   "cell_type": "code",
   "execution_count": 179,
   "id": "8cbdac24-e76a-4d8e-a1dd-0b832f7e1562",
   "metadata": {},
   "outputs": [
    {
     "name": "stdout",
     "output_type": "stream",
     "text": [
      "extern \"C\" {\n",
      "#include \"/tmp/pytmpfile_2d0c40262005_42oivt8yns.c\"\n",
      "}\n",
      "\n",
      "#include <vector>\n",
      "#include <nlohmann/json.hpp>\n",
      "#include <fstream>\n",
      "#include <iomanip>\n",
      "#include <clib/synthesizer.h>\n",
      "#include <time.h>\n",
      "#include <math.h>\n",
      "#include <iostream>\n",
      "char* output_file;\n",
      "char* pre_accel_dump_file;  // optional dump file.\n",
      "using json = nlohmann::json;\n",
      "const char* __asan_default_options() {\n",
      "  return \"detect_leaks=0\";\n",
      "}\n",
      "\n",
      "clock_t AcceleratorStart;\n",
      "clock_t AcceleratorTotalNanos = 0;\n",
      "void StartAcceleratorTimer() {\n",
      "  AcceleratorStart = clock();\n",
      "}\n",
      "\n",
      "void StopAcceleratorTimer() {\n",
      "  AcceleratorTotalNanos += (clock()) - AcceleratorStart;\n",
      "}\n",
      "\n",
      "void write_output(int p, char* suri, char* sname, int returnv) {\n",
      "  json output_json;\n",
      "\n",
      "  output_json[\"suri\"] = suri;\n",
      "\n",
      "  output_json[\"sname\"] = sname;\n",
      "\n",
      "  output_json[\"returnv\"] = returnv;\n",
      "  std::ofstream out_str(output_file);\n",
      "  out_str << std::setw(4) << output_json << std::endl;\n",
      "}\n",
      "int main(int argc, char** argv) {\n",
      "  char* inpname = argv[1];\n",
      "  output_file = argv[2];\n",
      "\n",
      "  std::ifstream ifs(inpname);\n",
      "  json input_json = json::parse(ifs);\n",
      "  int p = input_json[\"p\"];\n",
      "  char* suri = strdup(input_json[\"suri\"].get<std::string>().c_str());\n",
      "  char* sname = strdup(input_json[\"sname\"].get<std::string>().c_str());\n",
      "  clock_t begin = clock();\n",
      "  int returnv = drv_attribute_open_recover(p, suri, sname);\n",
      "  clock_t end = clock();\n",
      "  std::cout << \"Time: \" << (double)(end - begin) / CLOCKS_PER_SEC << std::endl;\n",
      "  std::cout << \"AccTime: \" << (double)AcceleratorTotalNanos / CLOCKS_PER_SEC << std::endl;\n",
      "  write_output(p, suri, sname, returnv);\n",
      "}\n"
     ]
    }
   ],
   "source": [
    "# synthetic\n",
    "# print(row['angha_exe_wrapper'][0:10])  # print C++ wrapper to run function with IO\n",
    "# real\n",
    "print(row['real_exe_wrapper'])  # print C++ wrapper to run function with IO"
   ]
  },
  {
   "cell_type": "code",
   "execution_count": 180,
   "id": "db6864e8-d856-41fe-aed7-f4e654481493",
   "metadata": {},
   "outputs": [
    {
     "data": {
      "text/plain": [
       "'.globl drv_attribute_open_recover\\n.type drv_attribute_open_recover, @function\\ndrv_attribute_open_recover:\\n.LFB0:\\n\\t.cfi_startproc\\n\\tendbr64\\n\\tpushq\\t%rbp\\n\\t.cfi_def_cfa_offset 16\\n\\t.cfi_offset 6, -16\\n\\tmovq\\t%rsp, %rbp\\n\\t.cfi_def_cfa_register 6\\n\\tmovl\\t%edi, -4(%rbp)\\n\\tmovq\\t%rsi, -16(%rbp)\\n\\tmovq\\t%rdx, -24(%rbp)\\n\\tmovl\\t-4(%rbp), %eax\\n\\tpopq\\t%rbp\\n\\t.cfi_def_cfa 7, 8\\n\\tret\\n\\t.cfi_endproc\\n\\n'"
      ]
     },
     "execution_count": 180,
     "metadata": {},
     "output_type": "execute_result"
    }
   ],
   "source": [
    "# row['asm']['angha_gcc_x86_O0']['func_asm']\n",
    "row['asm']['real_gcc_x86_O0']['func_asm']"
   ]
  },
  {
   "cell_type": "code",
   "execution_count": 181,
   "id": "e5ea6b45-7c9c-40d3-ae84-438df0f1dab3",
   "metadata": {},
   "outputs": [
    {
     "ename": "TypeError",
     "evalue": "unsupported operand type(s) for +: 'NoneType' and 'str'",
     "output_type": "error",
     "traceback": [
      "\u001b[0;31m---------------------------------------------------------------------------\u001b[0m",
      "\u001b[0;31mTypeError\u001b[0m                                 Traceback (most recent call last)",
      "Cell \u001b[0;32mIn [181], line 2\u001b[0m\n\u001b[1;32m      1\u001b[0m \u001b[38;5;66;03m# Synthetic\u001b[39;00m\n\u001b[0;32m----> 2\u001b[0m wrapper \u001b[38;5;241m=\u001b[39m Wrapper(c_deps\u001b[38;5;241m=\u001b[39m\u001b[43mrow\u001b[49m\u001b[43m[\u001b[49m\u001b[38;5;124;43m'\u001b[39;49m\u001b[38;5;124;43mangha_deps\u001b[39;49m\u001b[38;5;124;43m'\u001b[39;49m\u001b[43m]\u001b[49m\u001b[43m \u001b[49m\u001b[38;5;241;43m+\u001b[39;49m\u001b[43m \u001b[49m\u001b[38;5;124;43m'\u001b[39;49m\u001b[38;5;130;43;01m\\n\u001b[39;49;00m\u001b[38;5;124;43m'\u001b[39;49m \u001b[38;5;241m+\u001b[39m row[\u001b[38;5;124m'\u001b[39m\u001b[38;5;124mangha_io_pairs\u001b[39m\u001b[38;5;124m'\u001b[39m][\u001b[38;5;241m0\u001b[39m][\u001b[38;5;124m'\u001b[39m\u001b[38;5;124mdummy_funcs\u001b[39m\u001b[38;5;124m'\u001b[39m] \u001b[38;5;241m+\u001b[39m \u001b[38;5;124m'\u001b[39m\u001b[38;5;130;01m\\n\u001b[39;00m\u001b[38;5;124m'\u001b[39m,\n\u001b[1;32m      3\u001b[0m     func_c_signature\u001b[38;5;241m=\u001b[39mrow[\u001b[38;5;124m'\u001b[39m\u001b[38;5;124mfunc_head_types\u001b[39m\u001b[38;5;124m'\u001b[39m]\u001b[38;5;241m.\u001b[39mreplace(\u001b[38;5;124m'\u001b[39m\u001b[38;5;124mextern\u001b[39m\u001b[38;5;124m'\u001b[39m, \u001b[38;5;124m'\u001b[39m\u001b[38;5;124m'\u001b[39m), func_assembly\u001b[38;5;241m=\u001b[39mrow[\u001b[38;5;124m'\u001b[39m\u001b[38;5;124masm\u001b[39m\u001b[38;5;124m'\u001b[39m][\u001b[38;5;124m'\u001b[39m\u001b[38;5;124mangha_gcc_x86_O0\u001b[39m\u001b[38;5;124m'\u001b[39m][\u001b[38;5;124m'\u001b[39m\u001b[38;5;124mfunc_asm\u001b[39m\u001b[38;5;124m'\u001b[39m],\n\u001b[1;32m      4\u001b[0m     cpp_wrapper\u001b[38;5;241m=\u001b[39mrow[\u001b[38;5;124m'\u001b[39m\u001b[38;5;124mangha_exe_wrapper\u001b[39m\u001b[38;5;124m'\u001b[39m])\n",
      "\u001b[0;31mTypeError\u001b[0m: unsupported operand type(s) for +: 'NoneType' and 'str'"
     ]
    }
   ],
   "source": [
    "# Synthetic\n",
    "wrapper = Wrapper(c_deps=row['angha_deps'] + '\\n' + row['angha_io_pairs'][0]['dummy_funcs'] + '\\n',\n",
    "    func_c_signature=row['func_head_types'].replace('extern', ''), func_assembly=row['asm']['angha_gcc_x86_O0']['func_asm'],\n",
    "    cpp_wrapper=row['angha_exe_wrapper'])"
   ]
  },
  {
   "cell_type": "code",
   "execution_count": 182,
   "id": "a0e495ce-87be-4fce-9910-c92bc837488e",
   "metadata": {},
   "outputs": [],
   "source": [
    "# real \n",
    "# row['real_io_pairs'][0]['dummy_funcs']\n",
    "wrapper = Wrapper(c_deps=row['real_deps'] + '\\n' + \"\" + '\\n',\n",
    "    func_c_signature=row['func_head_types'].replace('extern', ''), func_assembly=row['asm']['real_gcc_x86_O0']['func_asm'],\n",
    "    cpp_wrapper=row['real_exe_wrapper'])"
   ]
  },
  {
   "cell_type": "code",
   "execution_count": 183,
   "id": "05705545-1227-43f4-9fc8-efcd8ee5220c",
   "metadata": {},
   "outputs": [
    {
     "name": "stdout",
     "output_type": "stream",
     "text": [
      "Input {'p': 106, 'suri': 'mqxkphnvfe', 'sname': 'dy'}\n",
      "Observed Output: {'returnv': 106, 'sname': 'dy', 'suri': 'mqxkphnvfe'}\n"
     ]
    }
   ],
   "source": [
    "observed_output = wrapper(row['real_io_pairs'][0]['input'])  # Run synthetic example number 0\n",
    "print('Input', row['real_io_pairs'][0]['input'])\n",
    "print('Observed Output:', observed_output)\n",
    "#    print('Does this output coincide with the expected one?',\n",
    "#        'Yes' if diff_io(observed_output=observed_output,\n",
    "#                        expected_output=exebench_dict_to_dict(row['synth_io_pairs']['output'][0])) else 'No')"
   ]
  },
  {
   "cell_type": "code",
   "execution_count": 47,
   "id": "5e7f6363-f010-4756-9a94-afcc65850d15",
   "metadata": {},
   "outputs": [
    {
     "data": {
      "text/plain": [
       "dict_keys(['pre_asm', 'func_asm', 'post_asm', 'target'])"
      ]
     },
     "execution_count": 47,
     "metadata": {},
     "output_type": "execute_result"
    }
   ],
   "source": [
    "row['asm']['real_gcc_x86_O0'].keys()"
   ]
  },
  {
   "cell_type": "code",
   "execution_count": 38,
   "id": "9da65317-1c4b-4f25-a751-733dfd75940e",
   "metadata": {},
   "outputs": [
    {
     "data": {
      "text/plain": [
       "'extern \"C\" {\\n#include \"/tmp/pytmpfile_2d0c40262005_42oivt8yns.c\"\\n}\\n\\n#include <vector>\\n#include <nlohmann/json.hpp>\\n#include <fstream>\\n#include <iomanip>\\n#include <clib/synthesizer.h>\\n#include <time.h>\\n#include <math.h>\\n#include <iostream>\\nchar* output_file;\\nchar* pre_accel_dump_file;  // optional dump file.\\nusing json = nlohmann::json;\\nconst char* __asan_default_options() {\\n  return \"detect_leaks=0\";\\n}\\n\\nclock_t AcceleratorStart;\\nclock_t AcceleratorTotalNanos = 0;\\nvoid StartAcceleratorTimer() {\\n  AcceleratorStart = clock();\\n}\\n\\nvoid StopAcceleratorTimer() {\\n  AcceleratorTotalNanos += (clock()) - AcceleratorStart;\\n}\\n\\nvoid write_output(int p, char* suri, char* sname, int returnv) {\\n  json output_json;\\n\\n  output_json[\"suri\"] = suri;\\n\\n  output_json[\"sname\"] = sname;\\n\\n  output_json[\"returnv\"] = returnv;\\n  std::ofstream out_str(output_file);\\n  out_str << std::setw(4) << output_json << std::endl;\\n}\\nint main(int argc, char** argv) {\\n  char* inpname = argv[1];\\n  output_file = argv[2];\\n\\n  std::ifstream ifs(inpname);\\n  json input_json = json::parse(ifs);\\n  int p = input_json[\"p\"];\\n  char* suri = strdup(input_json[\"suri\"].get<std::string>().c_str());\\n  char* sname = strdup(input_json[\"sname\"].get<std::string>().c_str());\\n  clock_t begin = clock();\\n  int returnv = drv_attribute_open_recover(p, suri, sname);\\n  clock_t end = clock();\\n  std::cout << \"Time: \" << (double)(end - begin) / CLOCKS_PER_SEC << std::endl;\\n  std::cout << \"AccTime: \" << (double)AcceleratorTotalNanos / CLOCKS_PER_SEC << std::endl;\\n  write_output(p, suri, sname, returnv);\\n}'"
      ]
     },
     "execution_count": 38,
     "metadata": {},
     "output_type": "execute_result"
    }
   ],
   "source": [
    "row['real_exe_wrapper']"
   ]
  },
  {
   "cell_type": "code",
   "execution_count": 57,
   "id": "30b84bf2-eaa7-4d63-8535-3cb6989d1ef5",
   "metadata": {},
   "outputs": [],
   "source": [
    "x = 1"
   ]
  },
  {
   "cell_type": "code",
   "execution_count": 45,
   "id": "babeb62c-6e11-4c93-9611-560be739e6e3",
   "metadata": {},
   "outputs": [],
   "source": [
    "import re"
   ]
  },
  {
   "cell_type": "code",
   "execution_count": 47,
   "id": "d5e514d2-de16-4633-b098-24932b61e74f",
   "metadata": {},
   "outputs": [],
   "source": [
    "cpp_wrapper = row['angha_exe_wrapper']\n",
    "c_deps_path = row['angha_deps'] + '\\n' + row['angha_io_pairs'][0]['dummy_funcs'] + '\\n'\n",
    "cpp_wrapper = re.sub(r'extern\\s\\\"C\\\"\\s\\{\\s.*\\s\\}', 'extern \"C\" \\n{\\n#include \"' + c_deps_path + '\"\\n}\\n',cpp_wrapper)"
   ]
  },
  {
   "cell_type": "code",
   "execution_count": 49,
   "id": "d5eae774-495f-4455-9760-dac931257289",
   "metadata": {},
   "outputs": [
    {
     "data": {
      "text/plain": [
       "str"
      ]
     },
     "execution_count": 49,
     "metadata": {},
     "output_type": "execute_result"
    }
   ],
   "source": [
    "type(cpp_wrapper)"
   ]
  },
  {
   "cell_type": "code",
   "execution_count": null,
   "id": "2bf64298-175e-4b86-9659-a4b6a71a73d0",
   "metadata": {},
   "outputs": [],
   "source": []
  }
 ],
 "metadata": {
  "kernelspec": {
   "display_name": "Python 3 (ipykernel)",
   "language": "python",
   "name": "python3"
  },
  "language_info": {
   "codemirror_mode": {
    "name": "ipython",
    "version": 3
   },
   "file_extension": ".py",
   "mimetype": "text/x-python",
   "name": "python",
   "nbconvert_exporter": "python",
   "pygments_lexer": "ipython3",
   "version": "3.10.6"
  }
 },
 "nbformat": 4,
 "nbformat_minor": 5
}
